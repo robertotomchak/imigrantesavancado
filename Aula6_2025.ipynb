{
  "nbformat": 4,
  "nbformat_minor": 0,
  "metadata": {
    "colab": {
      "provenance": []
    },
    "kernelspec": {
      "name": "python3",
      "display_name": "Python 3"
    },
    "language_info": {
      "name": "python"
    }
  },
  "cells": [
    {
      "cell_type": "markdown",
      "source": [
        "# Proporção, Porcentagem e Probabilidade"
      ],
      "metadata": {
        "id": "ULvaKQShZrZ2"
      }
    },
    {
      "cell_type": "code",
      "source": [
        "# Proporção\n",
        "ganhos = 10\n",
        "empates = 0\n",
        "perdidos = 3\n",
        "\n",
        "total = ganhos + empates + perdidos\n",
        "\n",
        "taxa = ganhos / total\n",
        "\n",
        "print(round(taxa, 3))"
      ],
      "metadata": {
        "id": "PeRo5e_mSKvI",
        "colab": {
          "base_uri": "https://localhost:8080/"
        },
        "outputId": "0390d103-9a25-419a-82d8-7330666ab0ed"
      },
      "execution_count": 1,
      "outputs": [
        {
          "output_type": "stream",
          "name": "stdout",
          "text": [
            "0.769\n"
          ]
        }
      ]
    },
    {
      "cell_type": "code",
      "source": [
        "# Porcentagem\n",
        "ganhos = 10\n",
        "empates = 0\n",
        "perdidos = 3\n",
        "\n",
        "total = ganhos + empates + perdidos\n",
        "\n",
        "taxa = ganhos / total\n",
        "\n",
        "porcentagem = taxa * 100\n",
        "\n",
        "print(f\"{round(porcentagem, 0)}%\")"
      ],
      "metadata": {
        "id": "093MTLVEZtjY",
        "colab": {
          "base_uri": "https://localhost:8080/"
        },
        "outputId": "fddb2154-42b1-4ec8-c6cb-456a0b01b49d"
      },
      "execution_count": 2,
      "outputs": [
        {
          "output_type": "stream",
          "name": "stdout",
          "text": [
            "77.0%\n"
          ]
        }
      ]
    },
    {
      "cell_type": "code",
      "source": [
        "# Probabilidade\n",
        "dias_chuva = 9\n",
        "dias_mes = 30\n",
        "\n",
        "probabilidade = 100 * dias_chuva / dias_mes\n",
        "\n",
        "print(f\"A chance de chover é de {round(probabilidade, 2)}%\")"
      ],
      "metadata": {
        "id": "VWH0SmCyZ-Kf",
        "colab": {
          "base_uri": "https://localhost:8080/"
        },
        "outputId": "1f66ccbe-a6a6-4e00-91b0-e4fd50530fbd"
      },
      "execution_count": 3,
      "outputs": [
        {
          "output_type": "stream",
          "name": "stdout",
          "text": [
            "A chance de chover é de 30.0%\n"
          ]
        }
      ]
    },
    {
      "cell_type": "markdown",
      "source": [
        "## Exercícios"
      ],
      "metadata": {
        "id": "CXWU-HXTFoIh"
      }
    },
    {
      "cell_type": "code",
      "source": [
        "# Eu quero baixar um arquivo de 46 MB, e já baixei 17 MB. Quanto do jogo já baixei?\n",
        "# Mostre como proporção ou porcentagem"
      ],
      "metadata": {
        "id": "l7Ypr1WHFrPV"
      },
      "execution_count": 4,
      "outputs": []
    },
    {
      "cell_type": "code",
      "source": [
        "# Numa disciplina, tem 45 alunos na turma. Desses, 37 passaram na matéria\n",
        "# Qual a probabilidade de passar nessa matéria?"
      ],
      "metadata": {
        "id": "z-mxrQleGFdI"
      },
      "execution_count": 5,
      "outputs": []
    },
    {
      "cell_type": "code",
      "source": [
        "# a lista abaixo diz se uma certa pessoa estava doente ou não\n",
        "# qual a porcentagem de doentes?\n",
        "doente = [True, False, False, False, True, True, False, True]"
      ],
      "metadata": {
        "id": "GWuloudmGrnP"
      },
      "execution_count": 7,
      "outputs": []
    },
    {
      "cell_type": "markdown",
      "source": [
        "# Média, Mediana e Moda"
      ],
      "metadata": {
        "id": "sQ0rwYfcaJdJ"
      }
    },
    {
      "cell_type": "code",
      "source": [
        "# biblioteca útil para calcular estatísticas\n",
        "import statistics as stat"
      ],
      "metadata": {
        "id": "SrHz2iEeaFSy"
      },
      "execution_count": null,
      "outputs": []
    },
    {
      "cell_type": "code",
      "source": [
        "# Média\n",
        "idades1 = [10, 8, 12, 10]\n",
        "\n",
        "media1 = sum(idades1) / len(idades1)\n",
        "media2 = stat.mean(idades1)\n",
        "\n",
        "print(media1)\n",
        "print(media2)"
      ],
      "metadata": {
        "id": "Bw6QE6dyaRnS",
        "colab": {
          "base_uri": "https://localhost:8080/"
        },
        "outputId": "7de63153-8607-4fec-8340-49f276f790f2"
      },
      "execution_count": null,
      "outputs": [
        {
          "output_type": "stream",
          "name": "stdout",
          "text": [
            "10.0\n",
            "10\n"
          ]
        }
      ]
    },
    {
      "cell_type": "code",
      "source": [
        "# cuidado ao usar a média! Listas de dados diferentes podem ter a mesma média\n",
        "idades1 = [8, 10, 12, 10]\n",
        "idades2 = [2, 20, 8, 10]\n",
        "\n",
        "print(stat.mean(idades1))\n",
        "print(stat.mean(idades2))"
      ],
      "metadata": {
        "id": "T48C6M9AaeSg",
        "colab": {
          "base_uri": "https://localhost:8080/"
        },
        "outputId": "cad98e39-748b-435c-bcea-ac79fdf5fe71"
      },
      "execution_count": null,
      "outputs": [
        {
          "output_type": "stream",
          "name": "stdout",
          "text": [
            "10\n",
            "10\n"
          ]
        }
      ]
    },
    {
      "cell_type": "code",
      "source": [
        "# Calculando média de muitos dados\n",
        "# não se preocupe em entender esse \"valores\"\n",
        "muitos_valores = [21, 24, 22, 21, 21, 24, 23, 24, 19, 21, 18, 23, 21, 24, 18, 19,\n",
        "           22, 22, 20, 23, 21, 20, 19, 23, 18, 20, 19, 24, 24, 21, 18, 23,\n",
        "           22, 19, 18, 19, 23, 18, 21, 20, 18, 24, 21, 23, 18, 23, 21, 22,\n",
        "           24, 21, 21, 24, 18, 23, 22, 22, 18, 23, 22, 23, 18, 22, 21, 22,\n",
        "           23, 23, 20, 24, 23, 22, 20, 21, 24, 18, 24, 18, 20, 24, 24, 21,\n",
        "           22, 21, 22, 24, 21, 22, 19, 22, 20, 24, 24, 22, 21, 18, 23, 18,\n",
        "           19, 23, 19, 19]\n",
        "print(stat.mean(muitos_valores))"
      ],
      "metadata": {
        "colab": {
          "base_uri": "https://localhost:8080/"
        },
        "id": "Fa2KYLJvapTh",
        "outputId": "b161d3b9-b659-489e-b086-a7633c63be85"
      },
      "execution_count": null,
      "outputs": [
        {
          "output_type": "stream",
          "name": "stdout",
          "text": [
            "21.26\n"
          ]
        }
      ]
    },
    {
      "cell_type": "code",
      "source": [
        "# Mediana\n",
        "valores = [21, 23, 19, 22, 22]\n",
        "print(f\"Media: {stat.mean(valores)}\")\n",
        "print(f\"Mediana: {stat.median(valores)}\")"
      ],
      "metadata": {
        "id": "x4xkyZpLbHn1",
        "colab": {
          "base_uri": "https://localhost:8080/"
        },
        "outputId": "61a091cd-4adf-438f-a90c-e0c511b80b23"
      },
      "execution_count": null,
      "outputs": [
        {
          "output_type": "stream",
          "name": "stdout",
          "text": [
            "Media: 21.4\n",
            "Mediana: 22\n"
          ]
        }
      ]
    },
    {
      "cell_type": "code",
      "source": [
        "# Média vs Mediana\n",
        "salarios = [1000, 4500, 3000, 100000]\n",
        "print(f\"Média: {stat.mean(salarios)}\")\n",
        "print(f\"Mediana: {stat.median(salarios)}\")"
      ],
      "metadata": {
        "colab": {
          "base_uri": "https://localhost:8080/"
        },
        "id": "rvOqGRwQgdA_",
        "outputId": "2fb4679d-68ec-4ae8-d8ae-690c57688cee"
      },
      "execution_count": null,
      "outputs": [
        {
          "output_type": "stream",
          "name": "stdout",
          "text": [
            "Média: 27125\n",
            "Mediana: 3750.0\n"
          ]
        }
      ]
    },
    {
      "cell_type": "code",
      "source": [
        "# Moda\n",
        "valores = [21, 23, 19, 22, 22]\n",
        "moda = stat.mode(valores)\n",
        "print(moda)"
      ],
      "metadata": {
        "id": "GRNyhqjXbaGI",
        "colab": {
          "base_uri": "https://localhost:8080/"
        },
        "outputId": "cc1963dc-2a16-4810-9542-b1b6c94479b0"
      },
      "execution_count": null,
      "outputs": [
        {
          "output_type": "stream",
          "name": "stdout",
          "text": [
            "22\n"
          ]
        }
      ]
    },
    {
      "cell_type": "code",
      "source": [
        "# Moda de muitos valores\n",
        "print(stat.mode(muitos_valores))"
      ],
      "metadata": {
        "colab": {
          "base_uri": "https://localhost:8080/"
        },
        "id": "XGBH5u4Xl1eg",
        "outputId": "65989fde-ba18-43e1-c5f5-ef9a1c4b1e26"
      },
      "execution_count": null,
      "outputs": [
        {
          "output_type": "stream",
          "name": "stdout",
          "text": [
            "21\n"
          ]
        }
      ]
    },
    {
      "cell_type": "code",
      "source": [
        "salarios = [700, 10000, 12000]\n",
        "print(stat.mean(salarios))"
      ],
      "metadata": {
        "colab": {
          "base_uri": "https://localhost:8080/"
        },
        "id": "Tz4tWRJxmSC1",
        "outputId": "92ae8fc4-ad2d-4628-f513-61b4fa8f2fa3"
      },
      "execution_count": null,
      "outputs": [
        {
          "output_type": "stream",
          "name": "stdout",
          "text": [
            "7566.666666666667\n"
          ]
        }
      ]
    },
    {
      "cell_type": "markdown",
      "source": [
        "## Exercícios"
      ],
      "metadata": {
        "id": "obcsQQztHG7g"
      }
    },
    {
      "cell_type": "code",
      "source": [
        "# qual das turmas a seguir tem a maior idade média?\n",
        "turma1 = [20, 22, 21, 23, 20]\n",
        "turma2 = [22, 23, 21, 21, 18]"
      ],
      "metadata": {
        "id": "qSwU0DA7HO6t"
      },
      "execution_count": 9,
      "outputs": []
    },
    {
      "cell_type": "code",
      "source": [
        "# uma empresa decidiu fechar todas as lojas que tiveram\n",
        "# lucro abaixo da média\n",
        "# quantas lojas serão fechadas?\n",
        "lojas = [55, 10, 3, 50, 5, 30, 39, 1, 9]"
      ],
      "metadata": {
        "id": "3qNWWzMLHIdw"
      },
      "execution_count": 8,
      "outputs": []
    },
    {
      "cell_type": "markdown",
      "source": [
        "# Variância e Desvio Padrão"
      ],
      "metadata": {
        "id": "TLVti5H3bjtW"
      }
    },
    {
      "cell_type": "code",
      "source": [
        "idades1 = [10, 8, 12, 10]\n",
        "idades2 = [2, 20, 8, 10]"
      ],
      "metadata": {
        "id": "ON86IRguoKVp"
      },
      "execution_count": null,
      "outputs": []
    },
    {
      "cell_type": "code",
      "source": [
        "# Variância\n",
        "var1 = stat.variance(idades1)\n",
        "var2 = stat.variance(idades2)\n",
        "print(var1)\n",
        "print(var2)"
      ],
      "metadata": {
        "id": "dmsEAlpkbd6o",
        "colab": {
          "base_uri": "https://localhost:8080/"
        },
        "outputId": "0fdac45c-b987-4617-9a81-2c06e1b0cd2a"
      },
      "execution_count": null,
      "outputs": [
        {
          "output_type": "stream",
          "name": "stdout",
          "text": [
            "2.6666666666666665\n",
            "56\n"
          ]
        }
      ]
    },
    {
      "cell_type": "code",
      "source": [
        "# Desvio Padrão\n",
        "desvio1 = stat.stdev(idades1)\n",
        "desvio2 = stat.stdev(idades2)\n",
        "\n",
        "print(desvio1)\n",
        "print(desvio2)"
      ],
      "metadata": {
        "id": "E6OTmToCbv4k",
        "colab": {
          "base_uri": "https://localhost:8080/"
        },
        "outputId": "49f893a7-0814-4442-ee81-3fd98a4b3ddf"
      },
      "execution_count": null,
      "outputs": [
        {
          "output_type": "stream",
          "name": "stdout",
          "text": [
            "1.632993161855452\n",
            "7.483314773547883\n"
          ]
        }
      ]
    },
    {
      "cell_type": "code",
      "source": [
        "# É bem comum usar média e desvio padrão juntos\n",
        "salarios = [1000, 3100, 1200, 100000]\n",
        "media = stat.mean(salarios)\n",
        "desvio = stat.stdev(salarios)\n",
        "print(media, desvio)\n",
        "print(f\"[{media - desvio}, {media + desvio}]\")"
      ],
      "metadata": {
        "colab": {
          "base_uri": "https://localhost:8080/"
        },
        "id": "zkRkILYEqBvE",
        "outputId": "a621d6ee-f7cb-4d70-b24f-a50ba4d23d42"
      },
      "execution_count": null,
      "outputs": [
        {
          "output_type": "stream",
          "name": "stdout",
          "text": [
            "26325 49125.78243651698\n",
            "[-22800.78243651698, 75450.78243651698]\n"
          ]
        }
      ]
    },
    {
      "cell_type": "markdown",
      "source": [
        "## Exercícios"
      ],
      "metadata": {
        "id": "xzxE1lIGHxqt"
      }
    },
    {
      "cell_type": "code",
      "source": [
        "# ai estão as notas de uma turma\n",
        "# mostre média, mediana e desvio padrão\n",
        "# mostre o desvio padrão dividido pela média\n",
        "notas = [60, 54, 66, 3, 28, 68, 75, 61, 69, 75, 58, 52, 26, 57, 62, 97, 88, 77,\n",
        "         62, 61, 66, 73, 47, 77, 55, 65, 70, 93, 90, 80, 65, 86, 90, 64, 87, 90,\n",
        "         63, 82, 91, 81, 96, 91, 97, 84, 64, 87, 79, 89, 79, 69, 82, 69, 58, 58,\n",
        "         47]\n"
      ],
      "metadata": {
        "id": "D5J9tMPPH2Bo"
      },
      "execution_count": 11,
      "outputs": []
    },
    {
      "cell_type": "code",
      "source": [
        "# qual a média dos salários abaixo?\n",
        "# qual a média após removermos os outliers?\n",
        "# considere que um outlier é um número menor que (média - desvio padrão)\n",
        "# ou maior que (média + desvio padrão)\n",
        "salarios = [1200, 700, 30000, 5000, 13000, 6360, 8690, 1230, 1100, 1976, 10,\n",
        "            13000, 42000, 9600, 6000, 8500, 100, 8700, 8731]"
      ],
      "metadata": {
        "id": "cDK8TcEOHzIt"
      },
      "execution_count": 13,
      "outputs": []
    },
    {
      "cell_type": "markdown",
      "source": [
        "# Métricas"
      ],
      "metadata": {
        "id": "7d6wLg7icGo9"
      }
    },
    {
      "cell_type": "code",
      "source": [
        "# acurácia\n",
        "doentes_total = 13\n",
        "saudaveis_total = 7\n",
        "\n",
        "doentes_positivo = 11\n",
        "doentes_negativo = doentes_total - doentes_positivo\n",
        "saudaveis_positivo = 3\n",
        "saudaveis_negativo = saudaveis_total - saudaveis_positivo\n",
        "\n",
        "acuracia = 100 * (doentes_positivo + saudaveis_negativo) / (doentes_total + saudaveis_total)\n",
        "print(f\"{round(acuracia, 2)}%\")"
      ],
      "metadata": {
        "id": "yOLCQ7NtcGF2",
        "colab": {
          "base_uri": "https://localhost:8080/"
        },
        "outputId": "f9391a62-f00f-4dfe-ef1f-0db834523263"
      },
      "execution_count": null,
      "outputs": [
        {
          "output_type": "stream",
          "name": "stdout",
          "text": [
            "75.0%\n"
          ]
        }
      ]
    },
    {
      "cell_type": "code",
      "source": [
        "# margem de erro\n",
        "correto = 11.7\n",
        "calculado = 10.4\n",
        "\n",
        "erro = 100 * (calculado - correto) / correto\n",
        "print(f\"{round(erro, 2)}%\")"
      ],
      "metadata": {
        "id": "TvavJ9U1b0S1",
        "colab": {
          "base_uri": "https://localhost:8080/"
        },
        "outputId": "43fc1067-23a4-4629-bdff-7f8d06a787b2"
      },
      "execution_count": null,
      "outputs": [
        {
          "output_type": "stream",
          "name": "stdout",
          "text": [
            "-11.11%\n"
          ]
        }
      ]
    },
    {
      "cell_type": "markdown",
      "source": [
        "## Exercícios"
      ],
      "metadata": {
        "id": "8IXZA26eJKUX"
      }
    },
    {
      "cell_type": "code",
      "source": [
        "# abaixo estão duas listas\n",
        "# doente diz se a pessoa estava doente ou não\n",
        "# exame diz o que o resultado do exame disse sobre a pessoa\n",
        "# qual a acurácia desse teste?\n",
        "doente = [True, False, False, False, True, True, False, True]\n",
        "exame  = [True, True, False, False, False, True, False, True]"
      ],
      "metadata": {
        "id": "9QeNZYZ1JLvS"
      },
      "execution_count": 15,
      "outputs": []
    },
    {
      "cell_type": "markdown",
      "source": [
        "# Exercícios para casa"
      ],
      "metadata": {
        "id": "UwiHNmv9cjaW"
      }
    },
    {
      "cell_type": "code",
      "source": [
        "# Exercício 1: o batimento cardíaco ideal em descanso é 70\n",
        "# mas se tiver uma margem de erro de até 25% ainda é aceitável\n",
        "# quantas pessoas estão com batimento dentro do aceitável?\n",
        "batimentos = [70, 90, 77, 81, 50, 60, 73]"
      ],
      "metadata": {
        "id": "VUZhIswFfa-U"
      },
      "execution_count": 16,
      "outputs": []
    },
    {
      "cell_type": "code",
      "source": [
        "# Exercício 2: qual dos dois times a seguir é melhor?\n",
        "# dados time1:\n",
        "vitorias1 = 20\n",
        "derrotas1 = 11\n",
        "\n",
        "#dados time2:\n",
        "vitorias2 = 13\n",
        "derrotas2 = 6"
      ],
      "metadata": {
        "id": "zaFxmwaxJbme"
      },
      "execution_count": 18,
      "outputs": []
    },
    {
      "cell_type": "code",
      "source": [
        "# Exercício 3: a lista a seguir tem a idade de várias pessoas numa festa\n",
        "# qual a porcentagem de maiores de idade na festa?\n",
        "idades = [18, 19, 22, 17, 13, 20, 15, 16, 16, 23, 29]"
      ],
      "metadata": {
        "id": "DfIwQaevJcLL"
      },
      "execution_count": 20,
      "outputs": []
    },
    {
      "cell_type": "code",
      "source": [
        "# Exercício 4: qual a média dos produtos que custam mais que 40?\n",
        "produtos = [23, 47, 62, 44, 21, 8, 19, 88]"
      ],
      "metadata": {
        "id": "tpujKVZhJijZ"
      },
      "execution_count": 21,
      "outputs": []
    },
    {
      "cell_type": "code",
      "source": [
        "# NÃO SE PREOCUPE EM ENTENDER O CÓDIGO DESSA CÉLULA! ELE É BEM COMPLICADO\n",
        "import pandas as pd  # biblioteca que manipula tabelas\n",
        "import io            # biblioteca para interpretar textos\n",
        "import requests      # biblioteca para pegar dados na internet\n",
        "\n",
        "# esse link tem dados sobre o enem\n",
        "url = \"https://raw.githubusercontent.com/robertotomchak/imigrantesavancado/main/dados_enem.csv\"\n",
        "# a variável s guarda os dados do link\n",
        "s = requests.get(url).content\n",
        "\n",
        "# a variável df é uma tabela com vários dados do enem\n",
        "df = pd.read_csv(io.StringIO(s.decode('utf-8')))\n",
        "\n",
        "# essa lista guarda as notas dos alunos do enem\n",
        "notas_enem = list(df[\"NU_NOTA_REDACAO\"])"
      ],
      "metadata": {
        "id": "mM6svgH2JnEo"
      },
      "execution_count": 26,
      "outputs": []
    },
    {
      "cell_type": "code",
      "source": [
        "# Exercício 5: mostre a média das notas na redação do ENEM\n",
        "# obs: a variável que tem as notas se chama notas_enem"
      ],
      "metadata": {
        "id": "ooKmK2prKT3Q"
      },
      "execution_count": 27,
      "outputs": []
    },
    {
      "cell_type": "code",
      "source": [
        "# Exercício 6:\n",
        "# para passar em medicina, é considerado necessário tirar pelo menos 900 no ENEM\n",
        "# quantos alunos tiraram essa nota?\n",
        "# mostre tanto o número bruto quanto a porcentagem"
      ],
      "metadata": {
        "id": "kM2qLrHmKjVK"
      },
      "execution_count": 28,
      "outputs": []
    }
  ]
}